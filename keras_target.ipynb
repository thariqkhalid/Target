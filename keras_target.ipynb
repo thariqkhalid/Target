{
 "cells": [
  {
   "cell_type": "code",
   "execution_count": 1,
   "metadata": {
    "collapsed": false
   },
   "outputs": [
    {
     "name": "stdout",
     "output_type": "stream",
     "text": [
      "60000 train samples\n",
      "10000 test samples\n",
      "_________________________________________________________________\n",
      "Layer (type)                 Output Shape              Param #   \n",
      "=================================================================\n",
      "dense_1 (Dense)              (None, 512)               401920    \n",
      "_________________________________________________________________\n",
      "dropout_1 (Dropout)          (None, 512)               0         \n",
      "_________________________________________________________________\n",
      "dense_2 (Dense)              (None, 512)               262656    \n",
      "_________________________________________________________________\n",
      "dropout_2 (Dropout)          (None, 512)               0         \n",
      "_________________________________________________________________\n",
      "dense_3 (Dense)              (None, 10)                5130      \n",
      "=================================================================\n",
      "Total params: 669,706\n",
      "Trainable params: 669,706\n",
      "Non-trainable params: 0\n",
      "_________________________________________________________________\n",
      "Train on 60000 samples, validate on 10000 samples\n",
      "Epoch 1/20\n",
      "60000/60000 [==============================] - 12s - loss: 0.2442 - acc: 0.9249 - val_loss: 0.1158 - val_acc: 0.9640\n",
      "Epoch 2/20\n",
      "60000/60000 [==============================] - 12s - loss: 0.1033 - acc: 0.9691 - val_loss: 0.0801 - val_acc: 0.9767\n",
      "Epoch 3/20\n",
      "60000/60000 [==============================] - 12s - loss: 0.0755 - acc: 0.9773 - val_loss: 0.0716 - val_acc: 0.9788\n",
      "Epoch 4/20\n",
      "60000/60000 [==============================] - 12s - loss: 0.0607 - acc: 0.9817 - val_loss: 0.0745 - val_acc: 0.9791\n",
      "Epoch 5/20\n",
      "60000/60000 [==============================] - 12s - loss: 0.0504 - acc: 0.9845 - val_loss: 0.0811 - val_acc: 0.9797\n",
      "Epoch 6/20\n",
      "60000/60000 [==============================] - 12s - loss: 0.0436 - acc: 0.9868 - val_loss: 0.0848 - val_acc: 0.9794\n",
      "Epoch 7/20\n",
      "60000/60000 [==============================] - 12s - loss: 0.0385 - acc: 0.9886 - val_loss: 0.0793 - val_acc: 0.9795\n",
      "Epoch 8/20\n",
      "60000/60000 [==============================] - 12s - loss: 0.0346 - acc: 0.9897 - val_loss: 0.0789 - val_acc: 0.9831\n",
      "Epoch 9/20\n",
      "60000/60000 [==============================] - 12s - loss: 0.0315 - acc: 0.9912 - val_loss: 0.0871 - val_acc: 0.9823\n",
      "Epoch 10/20\n",
      "60000/60000 [==============================] - 12s - loss: 0.0286 - acc: 0.9918 - val_loss: 0.1184 - val_acc: 0.9775\n",
      "Epoch 11/20\n",
      "60000/60000 [==============================] - 12s - loss: 0.0289 - acc: 0.9922 - val_loss: 0.0969 - val_acc: 0.9798\n",
      "Epoch 12/20\n",
      "60000/60000 [==============================] - 12s - loss: 0.0244 - acc: 0.9934 - val_loss: 0.0923 - val_acc: 0.9837\n",
      "Epoch 13/20\n",
      "60000/60000 [==============================] - 12s - loss: 0.0246 - acc: 0.9934 - val_loss: 0.0936 - val_acc: 0.9845\n",
      "Epoch 14/20\n",
      "60000/60000 [==============================] - 12s - loss: 0.0238 - acc: 0.9934 - val_loss: 0.1006 - val_acc: 0.9827\n",
      "Epoch 15/20\n",
      "60000/60000 [==============================] - 12s - loss: 0.0202 - acc: 0.9943 - val_loss: 0.1013 - val_acc: 0.9829\n",
      "Epoch 16/20\n",
      "60000/60000 [==============================] - 12s - loss: 0.0207 - acc: 0.9943 - val_loss: 0.1097 - val_acc: 0.9838\n",
      "Epoch 17/20\n",
      "60000/60000 [==============================] - 13s - loss: 0.0195 - acc: 0.9945 - val_loss: 0.1036 - val_acc: 0.9834\n",
      "Epoch 18/20\n",
      "60000/60000 [==============================] - 13s - loss: 0.0187 - acc: 0.9950 - val_loss: 0.1152 - val_acc: 0.9816\n",
      "Epoch 19/20\n",
      "60000/60000 [==============================] - 12s - loss: 0.0187 - acc: 0.9951 - val_loss: 0.1246 - val_acc: 0.9821\n",
      "Epoch 20/20\n",
      "60000/60000 [==============================] - 12s - loss: 0.0183 - acc: 0.9952 - val_loss: 0.1056 - val_acc: 0.9840\n",
      "Test loss: 0.105602146316\n",
      "Test accuracy: 0.984\n"
     ]
    },
    {
     "name": "stderr",
     "output_type": "stream",
     "text": [
      "Using TensorFlow backend.\n"
     ]
    }
   ],
   "source": [
    "'''Trains a simple deep NN on the MNIST dataset.\n",
    "Gets to 98.40% test accuracy after 20 epochs\n",
    "(there is *a lot* of margin for parameter tuning).\n",
    "2 seconds per epoch on a K520 GPU.\n",
    "'''\n",
    "\n",
    "from __future__ import print_function\n",
    "\n",
    "import keras\n",
    "from keras.datasets import mnist\n",
    "from keras.models import Sequential\n",
    "from keras.layers import Dense, Dropout\n",
    "from keras.optimizers import RMSprop\n",
    "\n",
    "\n",
    "batch_size = 128\n",
    "num_classes = 10\n",
    "epochs = 20\n",
    "\n",
    "# the data, shuffled and split between train and test sets\n",
    "(x_train, y_train), (x_test, y_test) = mnist.load_data()\n",
    "\n",
    "x_train = x_train.reshape(60000, 784)\n",
    "x_test = x_test.reshape(10000, 784)\n",
    "x_train = x_train.astype('float32')\n",
    "x_test = x_test.astype('float32')\n",
    "x_train /= 255\n",
    "x_test /= 255\n",
    "print(x_train.shape[0], 'train samples')\n",
    "print(x_test.shape[0], 'test samples')\n",
    "\n",
    "# convert class vectors to binary class matrices\n",
    "y_train = keras.utils.to_categorical(y_train, num_classes)\n",
    "y_test = keras.utils.to_categorical(y_test, num_classes)\n",
    "\n",
    "model = Sequential()\n",
    "model.add(Dense(512, activation='relu', input_shape=(784,)))\n",
    "model.add(Dropout(0.2))\n",
    "model.add(Dense(512, activation='relu'))\n",
    "model.add(Dropout(0.2))\n",
    "model.add(Dense(10, activation='softmax'))\n",
    "\n",
    "model.summary()\n",
    "\n",
    "model.compile(loss='categorical_crossentropy',\n",
    "              optimizer=RMSprop(),\n",
    "              metrics=['accuracy'])\n",
    "\n",
    "history = model.fit(x_train, y_train,\n",
    "                    batch_size=batch_size,\n",
    "                    epochs=epochs,\n",
    "                    verbose=1,\n",
    "                    validation_data=(x_test, y_test))\n",
    "score = model.evaluate(x_test, y_test, verbose=0)\n",
    "print('Test loss:', score[0])\n",
    "print('Test accuracy:', score[1])"
   ]
  },
  {
   "cell_type": "code",
   "execution_count": 151,
   "metadata": {
    "collapsed": false
   },
   "outputs": [
    {
     "name": "stdout",
     "output_type": "stream",
     "text": [
      "Using matplotlib backend: Qt4Agg\n"
     ]
    }
   ],
   "source": [
    "from scipy.misc import imread\n",
    "import matplotlib.pyplot as plt\n",
    "import cv2\n",
    "import scipy.ndimage as ndimage\n",
    "from scipy.misc import imresize\n",
    "from scipy.misc import imrotate\n",
    "from skimage import img_as_ubyte\n",
    "from skimage.filters import threshold_otsu\n",
    "import numpy as np\n",
    "from collections import defaultdict\n",
    "\n",
    "def blurnDenoise(bw,sz=(5,5),sigma=2,thresh=0.3):\n",
    "    I = bw.astype(float)\n",
    "    fg = cv2.GaussianBlur(I,sz,sigma)\n",
    "    m1 = fg > thresh\n",
    "    labels,num_items = ndimage.label(m1,np.ones((3,3),'int'))\n",
    "    pixel_sum = ndimage.sum(m1, labels, range(num_items+1)).astype(np.int)\n",
    "    mask_size = pixel_sum < 260\n",
    "    remove_pixel = mask_size[labels]\n",
    "    m1[remove_pixel] = 0\n",
    "    return m1\n",
    "\n",
    "def get_digit_segments(patch):\n",
    "    im_patch = patch.copy()\n",
    "    patch = blurnDenoise(patch)\n",
    "    label_im, nb_label = ndimage.label(patch,np.ones((3,3),'int'))\n",
    "    \n",
    "    numbers = []\n",
    "    digits_im = []\n",
    "    for i in range(1,nb_label+1):\n",
    "        slice_x, slice_y = ndimage.find_objects(label_im==i)[0]\n",
    "        digit = label_im[slice_x, slice_y]\n",
    "        digit = imresize(digit,(28,28)).astype('float32')/255\n",
    "        digits_im.append(digit)\n",
    "        digit = digit.flatten()\n",
    "        numbers.append(digit)\n",
    "\n",
    "    numbers = np.asarray(numbers)\n",
    "    predictions = model.predict(numbers)\n",
    "    plt.title(np.argmax(predictions,axis=1))\n",
    "    plt.imshow(patch,'gray')\n",
    "    plt.show()\n",
    "    plt.figure(figsize=(20, 8))\n",
    "    for i in range(1,nb_label):\n",
    "        ax = plt.subplot(1,nb_label,i)\n",
    "        ax.get_xaxis().set_visible(False)\n",
    "        ax.get_yaxis().set_visible(False)\n",
    "        plt.imshow(digits_im[i])\n",
    "        plt.gray()\n",
    "    plt.show()"
   ]
  },
  {
   "cell_type": "code",
   "execution_count": 148,
   "metadata": {
    "collapsed": true
   },
   "outputs": [],
   "source": [
    "def icr():\n",
    "\tbill = imread(\"878355.TIF\")\n",
    "\t#get the portion of the bill 878355.tif that has the handwritten digits\n",
    "\t#to get the exact portion of the bill that has handwritten digits is yet another recognition problem in ML compared to OCR\n",
    "\tclip_handwriting = bill[960:2450,1650:1850].astype('float32')\n",
    "\tbw = clip_handwriting < threshold_otsu(clip_handwriting)\n",
    "\n",
    "\tI, J = np.nonzero(bw)\n",
    "\trows = defaultdict(int)\n",
    "\tfor i in I:\n",
    "\t    rows[i] += 1\n",
    "\trow_values = rows.values()\n",
    "\tpatches = []\n",
    "\trow_ids = rows.keys()\n",
    "\n",
    "\tstart_id = row_ids[0]\n",
    "\tpatches = []\n",
    "\tfor v, rv in enumerate(row_values):\n",
    "\t    patch = []\n",
    "\t    if rv > 120:\n",
    "\t        if row_ids[v] - start_id > 50:\n",
    "\t            end_id = row_ids[v]\n",
    "\t            patch = bw[start_id:end_id,]\n",
    "\t            get_digit_segments(patch)\n",
    "\t            start_id = end_id\n",
    "\t        else:\n",
    "\t            start_id = row_ids[v]\n",
    "\t        if patch != []:\n",
    "\t            patches.append(patch)"
   ]
  },
  {
   "cell_type": "code",
   "execution_count": 152,
   "metadata": {
    "collapsed": false
   },
   "outputs": [
    {
     "name": "stderr",
     "output_type": "stream",
     "text": [
      "/home/thariq/anaconda2/lib/python2.7/site-packages/ipykernel/__main__.py:28: DeprecationWarning: elementwise != comparison failed; this will raise an error in the future.\n"
     ]
    }
   ],
   "source": [
    "icr()"
   ]
  },
  {
   "cell_type": "code",
   "execution_count": null,
   "metadata": {
    "collapsed": true
   },
   "outputs": [],
   "source": []
  }
 ],
 "metadata": {
  "kernelspec": {
   "display_name": "Python 2",
   "language": "python",
   "name": "python2"
  },
  "language_info": {
   "codemirror_mode": {
    "name": "ipython",
    "version": 2
   },
   "file_extension": ".py",
   "mimetype": "text/x-python",
   "name": "python",
   "nbconvert_exporter": "python",
   "pygments_lexer": "ipython2",
   "version": "2.7.12"
  }
 },
 "nbformat": 4,
 "nbformat_minor": 2
}
